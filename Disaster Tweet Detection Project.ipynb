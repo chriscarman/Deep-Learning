{
 "cells": [
  {
   "cell_type": "markdown",
   "metadata": {},
   "source": [
    "# CNN Cancer Detection Project\n",
    "\n",
    "Recurrent Neural Networks (RNN) are good at processing sequence data for predictions. Therefore, they are extremely useful for deep learning applications like speech recognition, speech synthesis, natural language understanding, etc.\n",
    "\n",
    "Three are three main types of RNNs: SimpleRNN, Long-Short Term Memories (LSTM), and Gated Recurrent Units (GRU).\n",
    "\n",
    "In this project, I will create an algorithm using GRU to diferentiate tweets communicating emergeny situations to non-urgent tweets. I will start with EDA, then split the data in train and test samples, define the GRU model, fit it and test its accuracy.  \n",
    "\n",
    "We will be using the data available at https://www.kaggle.com/competitions/nlp-getting-started/data"
   ]
  },
  {
   "cell_type": "code",
   "execution_count": 193,
   "metadata": {},
   "outputs": [],
   "source": [
    "# import necessary libraries\n",
    "import tensorflow as tf\n",
    "import tensorflow.keras\n",
    "from tensorflow.keras.models import Sequential\n",
    "from tensorflow.keras.layers import InputLayer, Dense, SimpleRNN, Activation, Dropout, Conv1D\n",
    "from tensorflow.keras.layers import Embedding, Flatten, LSTM, GRU\n",
    "from tensorflow.keras.preprocessing.text import Tokenizer\n",
    "from tensorflow.keras.preprocessing.sequence import pad_sequences\n",
    "from tensorflow.keras.callbacks import EarlyStopping\n",
    "from tensorflow.keras.optimizers import Adam\n",
    "import pandas as pd\n",
    "import numpy as np\n",
    "import spacy\n",
    "from sklearn.metrics import classification_report\n",
    "from sklearn.model_selection import train_test_split\n",
    "import matplotlib.pyplot as plt\n",
    "\n",
    "import cv2\n",
    "import gc\n",
    "import os"
   ]
  },
  {
   "cell_type": "markdown",
   "metadata": {},
   "source": [
    "# Exploratory Data Analysis\n",
    "\n",
    "In this section, we will analyse the data in order to prepare it for use in the model.\n",
    "\n",
    "By showing a couple values of the 'train.csv' file, we can see that it is composed of an Id, a keyword that can be NaN, a location that can be NaN, the main text of the tweet and its binary target classified as emergency (1) or non-emergency (0). This is also called the sentiment."
   ]
  },
  {
   "cell_type": "code",
   "execution_count": 194,
   "metadata": {},
   "outputs": [
    {
     "name": "stdout",
     "output_type": "stream",
     "text": [
      "The shape of the original dataset is (7613, 5)\n"
     ]
    },
    {
     "data": {
      "text/html": [
       "<div>\n",
       "<style scoped>\n",
       "    .dataframe tbody tr th:only-of-type {\n",
       "        vertical-align: middle;\n",
       "    }\n",
       "\n",
       "    .dataframe tbody tr th {\n",
       "        vertical-align: top;\n",
       "    }\n",
       "\n",
       "    .dataframe thead th {\n",
       "        text-align: right;\n",
       "    }\n",
       "</style>\n",
       "<table border=\"1\" class=\"dataframe\">\n",
       "  <thead>\n",
       "    <tr style=\"text-align: right;\">\n",
       "      <th></th>\n",
       "      <th>id</th>\n",
       "      <th>keyword</th>\n",
       "      <th>location</th>\n",
       "      <th>text</th>\n",
       "      <th>target</th>\n",
       "    </tr>\n",
       "  </thead>\n",
       "  <tbody>\n",
       "    <tr>\n",
       "      <th>0</th>\n",
       "      <td>1</td>\n",
       "      <td>NaN</td>\n",
       "      <td>NaN</td>\n",
       "      <td>Our Deeds are the Reason of this #earthquake M...</td>\n",
       "      <td>1</td>\n",
       "    </tr>\n",
       "    <tr>\n",
       "      <th>1</th>\n",
       "      <td>4</td>\n",
       "      <td>NaN</td>\n",
       "      <td>NaN</td>\n",
       "      <td>Forest fire near La Ronge Sask. Canada</td>\n",
       "      <td>1</td>\n",
       "    </tr>\n",
       "    <tr>\n",
       "      <th>2</th>\n",
       "      <td>5</td>\n",
       "      <td>NaN</td>\n",
       "      <td>NaN</td>\n",
       "      <td>All residents asked to 'shelter in place' are ...</td>\n",
       "      <td>1</td>\n",
       "    </tr>\n",
       "    <tr>\n",
       "      <th>3</th>\n",
       "      <td>6</td>\n",
       "      <td>NaN</td>\n",
       "      <td>NaN</td>\n",
       "      <td>13,000 people receive #wildfires evacuation or...</td>\n",
       "      <td>1</td>\n",
       "    </tr>\n",
       "    <tr>\n",
       "      <th>4</th>\n",
       "      <td>7</td>\n",
       "      <td>NaN</td>\n",
       "      <td>NaN</td>\n",
       "      <td>Just got sent this photo from Ruby #Alaska as ...</td>\n",
       "      <td>1</td>\n",
       "    </tr>\n",
       "  </tbody>\n",
       "</table>\n",
       "</div>"
      ],
      "text/plain": [
       "   id keyword location                                               text  \\\n",
       "0   1     NaN      NaN  Our Deeds are the Reason of this #earthquake M...   \n",
       "1   4     NaN      NaN             Forest fire near La Ronge Sask. Canada   \n",
       "2   5     NaN      NaN  All residents asked to 'shelter in place' are ...   \n",
       "3   6     NaN      NaN  13,000 people receive #wildfires evacuation or...   \n",
       "4   7     NaN      NaN  Just got sent this photo from Ruby #Alaska as ...   \n",
       "\n",
       "   target  \n",
       "0       1  \n",
       "1       1  \n",
       "2       1  \n",
       "3       1  \n",
       "4       1  "
      ]
     },
     "execution_count": 194,
     "metadata": {},
     "output_type": "execute_result"
    }
   ],
   "source": [
    "data = pd.read_csv(\"data/train.csv\", header=0, encoding='latin-1')\n",
    "print(\"The shape of the original dataset is {}\".format(data.shape))\n",
    "data.head()"
   ]
  },
  {
   "cell_type": "code",
   "execution_count": 195,
   "metadata": {},
   "outputs": [
    {
     "name": "stdout",
     "output_type": "stream",
     "text": [
      "<class 'pandas.core.frame.DataFrame'>\n",
      "RangeIndex: 7613 entries, 0 to 7612\n",
      "Data columns (total 5 columns):\n",
      " #   Column    Non-Null Count  Dtype \n",
      "---  ------    --------------  ----- \n",
      " 0   id        7613 non-null   int64 \n",
      " 1   keyword   7552 non-null   object\n",
      " 2   location  5080 non-null   object\n",
      " 3   text      7613 non-null   object\n",
      " 4   target    7613 non-null   int64 \n",
      "dtypes: int64(2), object(3)\n",
      "memory usage: 297.5+ KB\n"
     ]
    }
   ],
   "source": [
    "data.info()"
   ]
  },
  {
   "cell_type": "code",
   "execution_count": 196,
   "metadata": {},
   "outputs": [
    {
     "data": {
      "text/plain": [
       "USA                104\n",
       "New York            71\n",
       "United States       50\n",
       "London              45\n",
       "Canada              29\n",
       "Nigeria             28\n",
       "UK                  27\n",
       "Los Angeles, CA     26\n",
       "India               24\n",
       "Mumbai              22\n",
       "Name: location, dtype: int64"
      ]
     },
     "execution_count": 196,
     "metadata": {},
     "output_type": "execute_result"
    }
   ],
   "source": [
    "data['location'].value_counts()[:10]"
   ]
  },
  {
   "cell_type": "markdown",
   "metadata": {},
   "source": [
    "### EDA Functions\n",
    "\n",
    "Before we start data preparation, we first define some useful functions:\n",
    "\n",
    "- <span style=\"color: red;\">load_glove_model</span> loads the twitter embeddings model that can be downloaded here : https://www.kaggle.com/datasets/fullmetal26/glovetwitter27b100dtxt. This model is trained on 2 billion tweets, which contains 27 billion tokens and 1.2 million vocabs.\n",
    "- <span style=\"color: red;\">remove_stopwords</span> removes the stop words in a sentence\n",
    "- <span style=\"color: red;\">lemmatize</span> performs lemmatization (grouping together the different inflected forms of a word so they can be analyzed as a single item) on a sentence\n",
    "- <span style=\"color: red;\">sent_vectorizer</span> converts a sentence into a vector using the glove_model. This function may be used if we want a different type of input to the RNNs."
   ]
  },
  {
   "cell_type": "code",
   "execution_count": 197,
   "metadata": {},
   "outputs": [],
   "source": [
    "def load_glove_model(glove_file):\n",
    "    print(\"[INFO]Loading GloVe Model...\")\n",
    "    model = {}\n",
    "    with open(glove_file, 'r') as f:\n",
    "        for line in f:\n",
    "            split_line = line.split()\n",
    "            word = split_line[0]\n",
    "            embeddings = [float(val) for val in split_line[1:]]\n",
    "            model[word] = embeddings\n",
    "    print(\"[INFO] Done...{} words loaded!\".format(len(model)))\n",
    "    return model\n",
    "# adopted from utils.py\n",
    "nlp = spacy.load(\"en_core_web_sm\")\n",
    "\n",
    "def remove_stopwords(sentence):\n",
    "    '''\n",
    "    function to remove stopwords\n",
    "        input: sentence - string of sentence\n",
    "    '''\n",
    "    new = []\n",
    "    # tokenize sentence\n",
    "    sentence = nlp(sentence)\n",
    "    for tk in sentence:\n",
    "        if (tk.is_stop == False) & (tk.pos_ !=\"PUNCT\"):\n",
    "            new.append(tk.string.strip())\n",
    "    # convert back to sentence string\n",
    "    c = \" \".join(str(x) for x in new)\n",
    "    return c\n",
    "\n",
    "\n",
    "def lemmatize(sentence):\n",
    "    '''\n",
    "    function to do lemmatization\n",
    "        input: sentence - string of sentence\n",
    "    '''\n",
    "    sentence = nlp(sentence)\n",
    "    s = \"\"\n",
    "    for w in sentence:\n",
    "        s +=\" \"+w.lemma_\n",
    "    return nlp(s)\n",
    "\n",
    "def sent_vectorizer(sent, model):\n",
    "    '''\n",
    "    sentence vectorizer using the pretrained glove model\n",
    "    '''\n",
    "    sent_vector = np.zeros(200)\n",
    "    num_w = 0\n",
    "    for w in sent.split():\n",
    "        try:\n",
    "            # add up all token vectors to a sent_vector\n",
    "            sent_vector = np.add(sent_vector, model[str(w)])\n",
    "            num_w += 1\n",
    "        except:\n",
    "            pass\n",
    "    return sent_vector"
   ]
  },
  {
   "cell_type": "markdown",
   "metadata": {},
   "source": [
    "This cell allows to drop any duplicate of tweets. After checking, the dataframe is smaller which confirms there were duplicates."
   ]
  },
  {
   "cell_type": "code",
   "execution_count": 199,
   "metadata": {},
   "outputs": [
    {
     "name": "stdout",
     "output_type": "stream",
     "text": [
      "<class 'pandas.core.frame.DataFrame'>\n",
      "Int64Index: 7434 entries, 0 to 7612\n",
      "Data columns (total 5 columns):\n",
      " #   Column    Non-Null Count  Dtype \n",
      "---  ------    --------------  ----- \n",
      " 0   id        7434 non-null   int64 \n",
      " 1   keyword   7378 non-null   object\n",
      " 2   location  4982 non-null   object\n",
      " 3   text      7434 non-null   object\n",
      " 4   target    7434 non-null   int64 \n",
      "dtypes: int64(2), object(3)\n",
      "memory usage: 348.5+ KB\n"
     ]
    }
   ],
   "source": [
    "data = data.drop_duplicates(subset=['text'], keep=False)\n",
    "data.info()"
   ]
  },
  {
   "cell_type": "markdown",
   "metadata": {},
   "source": [
    "### Isolating useful data\n",
    "\n",
    "To train the model, we only need the tweet's main text which is the text column and the tweet sentiment information which is the 'target column. We will store the tweet text in data_X and the sentiment in data_y.\n"
   ]
  },
  {
   "cell_type": "code",
   "execution_count": 201,
   "metadata": {},
   "outputs": [
    {
     "data": {
      "text/plain": [
       "array(['Our Deeds are the Reason of this #earthquake May ALLAH Forgive us all',\n",
       "       'Forest fire near La Ronge Sask. Canada',\n",
       "       \"All residents asked to 'shelter in place' are being notified by officers. No other evacuation or shelter in place orders are expected\"],\n",
       "      dtype=object)"
      ]
     },
     "execution_count": 201,
     "metadata": {},
     "output_type": "execute_result"
    }
   ],
   "source": [
    "data_X = data['text'].to_numpy()\n",
    "data_y = data['target']\n",
    "data_y = pd.get_dummies(data_y).to_numpy()\n",
    "data_X[:3]"
   ]
  },
  {
   "cell_type": "markdown",
   "metadata": {},
   "source": [
    "The following code converts the tweet text to sequence format that can be used in the GRU model."
   ]
  },
  {
   "cell_type": "code",
   "execution_count": null,
   "metadata": {},
   "outputs": [],
   "source": [
    "# load the glove model\n",
    "glove_model = load_glove_model(\"data/glove.twitter.27B.200d.txt\")"
   ]
  },
  {
   "cell_type": "code",
   "execution_count": 202,
   "metadata": {},
   "outputs": [
    {
     "name": "stdout",
     "output_type": "stream",
     "text": [
      "Found 22585 unique tokens.\n"
     ]
    }
   ],
   "source": [
    "# number of vocab to keep\n",
    "max_vocab = 18000\n",
    "# length of sequence that will generate\n",
    "max_len = 15\n",
    "\n",
    "tokenizer = Tokenizer(num_words=max_vocab)\n",
    "tokenizer.fit_on_texts(data_X)\n",
    "sequences = tokenizer.texts_to_sequences(data_X)\n",
    "word_index = tokenizer.word_index\n",
    "print('Found %s unique tokens.' % len(word_index))\n",
    "data_keras = pad_sequences(sequences, maxlen=max_len, padding=\"post\")"
   ]
  },
  {
   "cell_type": "markdown",
   "metadata": {},
   "source": [
    "We now split data into training and validation sets."
   ]
  },
  {
   "cell_type": "code",
   "execution_count": 204,
   "metadata": {
    "scrolled": true
   },
   "outputs": [],
   "source": [
    "train_X, valid_X, train_y, valid_y = train_test_split(data_keras, data_y, test_size = 0.3)"
   ]
  },
  {
   "cell_type": "markdown",
   "metadata": {},
   "source": [
    "We can now obtain the word embedding matrix using the GloVe model."
   ]
  },
  {
   "cell_type": "code",
   "execution_count": 205,
   "metadata": {},
   "outputs": [
    {
     "name": "stdout",
     "output_type": "stream",
     "text": [
      "Null word embeddings: 10115\n"
     ]
    }
   ],
   "source": [
    "# calculate number of words\n",
    "nb_words = len(tokenizer.word_index) + 1\n",
    "\n",
    "# obtain the word embedding matrix\n",
    "embedding_matrix = np.zeros((nb_words, 200))\n",
    "for word, i in word_index.items():\n",
    "    embedding_vector = glove_model.get(word)\n",
    "    if embedding_vector is not None:\n",
    "        embedding_matrix[i] = embedding_vector\n",
    "print('Null word embeddings: %d' % np.sum(np.sum(embedding_matrix, axis=1) == 0))"
   ]
  },
  {
   "cell_type": "markdown",
   "metadata": {},
   "source": [
    "# Model building and fitting\n",
    "\n",
    "In this section, we will create the model and fit it to the training data. We will then predict if a tweet represents an emergency or not and compare those results to the testing data.\n",
    "\n",
    "### Model building\n",
    "\n",
    "To build the model, I have chosen the following architecture : input (embedding matrix) --> GRU Model --> Output with sigmoid activation."
   ]
  },
  {
   "cell_type": "code",
   "execution_count": 206,
   "metadata": {},
   "outputs": [],
   "source": [
    "model = Sequential()\n",
    "# add an embedding layer\n",
    "\n",
    "model.add(Embedding(nb_words, \n",
    "                200, \n",
    "                weights=[embedding_matrix], \n",
    "                input_length= max_len,\n",
    "                trainable = False))\n",
    "\n",
    "# add an RNN layer according to rnn_model\n",
    "model.add(GRU(200))\n",
    "#model.add(Dense(500,activation='relu'))\n",
    "#model.add(Dense(500, activation='relu'))\n",
    "model.add(Dense(2, activation='sigmoid'))\n",
    "\n",
    "model.compile(loss='binary_crossentropy', \n",
    "            optimizer='adam',\n",
    "            metrics=['accuracy'])"
   ]
  },
  {
   "cell_type": "code",
   "execution_count": 207,
   "metadata": {
    "scrolled": false
   },
   "outputs": [
    {
     "name": "stdout",
     "output_type": "stream",
     "text": [
      "Model: \"sequential_12\"\n",
      "_________________________________________________________________\n",
      "Layer (type)                 Output Shape              Param #   \n",
      "=================================================================\n",
      "embedding_12 (Embedding)     (None, 15, 200)           4517200   \n",
      "_________________________________________________________________\n",
      "gru_10 (GRU)                 (None, 200)               241200    \n",
      "_________________________________________________________________\n",
      "dense_20 (Dense)             (None, 2)                 402       \n",
      "=================================================================\n",
      "Total params: 4,758,802\n",
      "Trainable params: 241,602\n",
      "Non-trainable params: 4,517,200\n",
      "_________________________________________________________________\n"
     ]
    }
   ],
   "source": [
    "model.summary()"
   ]
  },
  {
   "cell_type": "markdown",
   "metadata": {},
   "source": [
    "we use adaptive moment estimation (Adam) with a learning rate of 0.0005 for optimizing the model which essentially mimics momentum for gradient and gradient-squared."
   ]
  },
  {
   "cell_type": "code",
   "execution_count": 208,
   "metadata": {},
   "outputs": [],
   "source": [
    "adam_optimizer = Adam(learning_rate=0.0005)\n",
    "model.compile(\n",
    "    optimizer = adam_optimizer,\n",
    "    loss = 'binary_crossentropy',\n",
    "    metrics = ['accuracy'])"
   ]
  },
  {
   "cell_type": "markdown",
   "metadata": {},
   "source": [
    "#### Callbacks\n",
    "Callbacks are used to check whether the model is improving with each epoch or not. If not, ReduceLROnPlateau allows to decrease the learning rate further. If the model performance is still not improving, then training will be stopped by EarlyStopping. We can also define some custom callbacks to stop training in between if the desired results have been obtained early."
   ]
  },
  {
   "cell_type": "code",
   "execution_count": 209,
   "metadata": {},
   "outputs": [],
   "source": [
    "from keras.callbacks import EarlyStopping, ReduceLROnPlateau\n",
    " \n",
    "\n",
    "class myCallback(tf.keras.callbacks.Callback):\n",
    "    def on_epoch_end(self, epoch, logs={}):\n",
    "        if logs.get('val_accuracy') > 0.90:\n",
    "            print('\\n Validation accuracy has reached upto \\\n",
    "                      90% so, stopping further training.')\n",
    "            self.model.stop_training = True\n",
    " \n",
    " \n",
    "es = EarlyStopping(patience=4,\n",
    "                   monitor='val_accuracy',\n",
    "                   restore_best_weights=True)\n",
    " \n",
    "lr = ReduceLROnPlateau(monitor='val_loss',\n",
    "                       patience=2,\n",
    "                       factor=0.5,\n",
    "                       verbose=1)"
   ]
  },
  {
   "cell_type": "code",
   "execution_count": 210,
   "metadata": {
    "scrolled": false
   },
   "outputs": [
    {
     "name": "stdout",
     "output_type": "stream",
     "text": [
      "Epoch 1/20\n",
      "44/44 [==============================] - 6s 83ms/step - loss: 0.6078 - accuracy: 0.6775 - val_loss: 0.4811 - val_accuracy: 0.7835\n",
      "Epoch 2/20\n",
      "44/44 [==============================] - 3s 78ms/step - loss: 0.4536 - accuracy: 0.7949 - val_loss: 0.4816 - val_accuracy: 0.7763\n",
      "Epoch 3/20\n",
      "44/44 [==============================] - 3s 75ms/step - loss: 0.4341 - accuracy: 0.7982 - val_loss: 0.4590 - val_accuracy: 0.7907\n",
      "Epoch 4/20\n",
      "44/44 [==============================] - 3s 75ms/step - loss: 0.4215 - accuracy: 0.8101 - val_loss: 0.4487 - val_accuracy: 0.8028\n",
      "Epoch 5/20\n",
      "44/44 [==============================] - 3s 75ms/step - loss: 0.4072 - accuracy: 0.8188 - val_loss: 0.4430 - val_accuracy: 0.8055\n",
      "Epoch 6/20\n",
      "44/44 [==============================] - 3s 76ms/step - loss: 0.3950 - accuracy: 0.8259 - val_loss: 0.4469 - val_accuracy: 0.8082\n",
      "Epoch 7/20\n",
      "44/44 [==============================] - 4s 81ms/step - loss: 0.3838 - accuracy: 0.8276 - val_loss: 0.4544 - val_accuracy: 0.8005\n",
      "\n",
      "Epoch 00007: ReduceLROnPlateau reducing learning rate to 0.0002500000118743628.\n",
      "Epoch 8/20\n",
      "44/44 [==============================] - 3s 79ms/step - loss: 0.3688 - accuracy: 0.8384 - val_loss: 0.4582 - val_accuracy: 0.7970\n",
      "Epoch 9/20\n",
      "44/44 [==============================] - 4s 80ms/step - loss: 0.3621 - accuracy: 0.8434 - val_loss: 0.4594 - val_accuracy: 0.7983\n",
      "\n",
      "Epoch 00009: ReduceLROnPlateau reducing learning rate to 0.0001250000059371814.\n",
      "Epoch 10/20\n",
      "44/44 [==============================] - 3s 77ms/step - loss: 0.3494 - accuracy: 0.8507 - val_loss: 0.4593 - val_accuracy: 0.8041\n"
     ]
    }
   ],
   "source": [
    "history = model.fit(train_X, train_y,\n",
    "                    validation_data=(valid_X, valid_y),\n",
    "                    batch_size=120,\n",
    "                    epochs = 20,\n",
    "                    verbose = 1,\n",
    "                    callbacks = [es, lr, myCallback()])"
   ]
  },
  {
   "cell_type": "markdown",
   "metadata": {},
   "source": [
    "We can see that the EarlyStopping function kicks in quite fast as the validation accuracy is very high from the start and doesn't change much for each epoch. Even reducing the learning rate during the model fitting barely improves the results.  \n",
    "\n",
    "We can visualize the evolution of loss and accuracy for each epoch and how the model performs with the split testing data. It stays fair to its 80% accuracy."
   ]
  },
  {
   "cell_type": "code",
   "execution_count": 211,
   "metadata": {
    "scrolled": false
   },
   "outputs": [
    {
     "data": {
      "image/png": "[encoded data removed]",
      "text/plain": [
       "<Figure size 432x288 with 1 Axes>"
      ]
     },
     "metadata": {
      "needs_background": "light"
     },
     "output_type": "display_data"
    },
    {
     "data": {
      "image/png": "[encoded data removed]",
      "text/plain": [
       "<Figure size 432x288 with 1 Axes>"
      ]
     },
     "metadata": {
      "needs_background": "light"
     },
     "output_type": "display_data"
    }
   ],
   "source": [
    "history_df = pd.DataFrame(history.history)\n",
    "history_df.loc[:,['loss','val_loss']].plot()\n",
    "history_df.loc[:,['accuracy','val_accuracy']].plot()\n",
    "plt.show()"
   ]
  },
  {
   "cell_type": "code",
   "execution_count": 212,
   "metadata": {},
   "outputs": [
    {
     "name": "stdout",
     "output_type": "stream",
     "text": [
      "              precision    recall  f1-score   support\n",
      "\n",
      "           0       0.79      0.91      0.85      1286\n",
      "           1       0.85      0.67      0.75       945\n",
      "\n",
      "    accuracy                           0.81      2231\n",
      "   macro avg       0.82      0.79      0.80      2231\n",
      "weighted avg       0.81      0.81      0.80      2231\n",
      "\n"
     ]
    }
   ],
   "source": [
    "predictions = model.predict(valid_X)\n",
    "predictions = predictions.argmax(axis=1)\n",
    "print(classification_report(valid_y.argmax(axis=1), predictions))"
   ]
  },
  {
   "cell_type": "markdown",
   "metadata": {},
   "source": [
    "## Testing the model with the submission test sample\n",
    "Now that we have a trained model, we can test it on the unseen test data images. We must also normalize the test data like we did with the training data. Then we run the model to find its predictions, save it and upload it to kaggle. (Update : after Kaggle submission, my model has a 0.60 accuracy score)."
   ]
  },
  {
   "cell_type": "code",
   "execution_count": 215,
   "metadata": {
    "scrolled": true
   },
   "outputs": [
    {
     "name": "stdout",
     "output_type": "stream",
     "text": [
      "The shape of the testing dataset is (7434, 5)\n"
     ]
    },
    {
     "data": {
      "text/html": [
       "<div>\n",
       "<style scoped>\n",
       "    .dataframe tbody tr th:only-of-type {\n",
       "        vertical-align: middle;\n",
       "    }\n",
       "\n",
       "    .dataframe tbody tr th {\n",
       "        vertical-align: top;\n",
       "    }\n",
       "\n",
       "    .dataframe thead th {\n",
       "        text-align: right;\n",
       "    }\n",
       "</style>\n",
       "<table border=\"1\" class=\"dataframe\">\n",
       "  <thead>\n",
       "    <tr style=\"text-align: right;\">\n",
       "      <th></th>\n",
       "      <th>id</th>\n",
       "      <th>keyword</th>\n",
       "      <th>location</th>\n",
       "      <th>text</th>\n",
       "    </tr>\n",
       "  </thead>\n",
       "  <tbody>\n",
       "    <tr>\n",
       "      <th>3258</th>\n",
       "      <td>10861</td>\n",
       "      <td>NaN</td>\n",
       "      <td>NaN</td>\n",
       "      <td>EARTHQUAKE SAFETY LOS ANGELES ÂÃÃ SAFETY FA...</td>\n",
       "    </tr>\n",
       "    <tr>\n",
       "      <th>3259</th>\n",
       "      <td>10865</td>\n",
       "      <td>NaN</td>\n",
       "      <td>NaN</td>\n",
       "      <td>Storm in RI worse than last hurricane. My city...</td>\n",
       "    </tr>\n",
       "    <tr>\n",
       "      <th>3260</th>\n",
       "      <td>10868</td>\n",
       "      <td>NaN</td>\n",
       "      <td>NaN</td>\n",
       "      <td>Green Line derailment in Chicago http://t.co/U...</td>\n",
       "    </tr>\n",
       "    <tr>\n",
       "      <th>3261</th>\n",
       "      <td>10874</td>\n",
       "      <td>NaN</td>\n",
       "      <td>NaN</td>\n",
       "      <td>MEG issues Hazardous Weather Outlook (HWO) htt...</td>\n",
       "    </tr>\n",
       "    <tr>\n",
       "      <th>3262</th>\n",
       "      <td>10875</td>\n",
       "      <td>NaN</td>\n",
       "      <td>NaN</td>\n",
       "      <td>#CityofCalgary has activated its Municipal Eme...</td>\n",
       "    </tr>\n",
       "  </tbody>\n",
       "</table>\n",
       "</div>"
      ],
      "text/plain": [
       "         id keyword location  \\\n",
       "3258  10861     NaN      NaN   \n",
       "3259  10865     NaN      NaN   \n",
       "3260  10868     NaN      NaN   \n",
       "3261  10874     NaN      NaN   \n",
       "3262  10875     NaN      NaN   \n",
       "\n",
       "                                                   text  \n",
       "3258  EARTHQUAKE SAFETY LOS ANGELES ÂÃÃ SAFETY FA...  \n",
       "3259  Storm in RI worse than last hurricane. My city...  \n",
       "3260  Green Line derailment in Chicago http://t.co/U...  \n",
       "3261  MEG issues Hazardous Weather Outlook (HWO) htt...  \n",
       "3262  #CityofCalgary has activated its Municipal Eme...  "
      ]
     },
     "execution_count": 215,
     "metadata": {},
     "output_type": "execute_result"
    }
   ],
   "source": [
    "df = pd.read_csv(\"data/test.csv\", header=0, encoding='latin-1')\n",
    "print(\"The shape of the testing dataset is {}\".format(data.shape))\n",
    "df.tail()"
   ]
  },
  {
   "cell_type": "code",
   "execution_count": 216,
   "metadata": {},
   "outputs": [
    {
     "name": "stdout",
     "output_type": "stream",
     "text": [
      "Found 12818 unique tokens.\n"
     ]
    },
    {
     "data": {
      "text/plain": [
       "array([[  34,  567,    5, ...,    0,    0,    0],\n",
       "       [ 272,   53,  247, ...,    0,    0,    0],\n",
       "       [  42,   22,  891, ...,  481,  101,   43],\n",
       "       ...,\n",
       "       [ 714,  299,  732, ...,    0,    0,    0],\n",
       "       [3758,  697,  469, ...,    0,    0,    0],\n",
       "       [3412,   58, 3419, ...,    0,    0,    0]], dtype=int32)"
      ]
     },
     "execution_count": 216,
     "metadata": {},
     "output_type": "execute_result"
    }
   ],
   "source": [
    "# isolate the tweet texts\n",
    "test_X = df['text'].to_numpy()\n",
    "\n",
    "max_vocab = 18000\n",
    "# length of sequence that will generate\n",
    "max_len = 15\n",
    "\n",
    "# prepare data for embedding\n",
    "tokenizer = Tokenizer(num_words=max_vocab)\n",
    "tokenizer.fit_on_texts(test_X)\n",
    "sequences = tokenizer.texts_to_sequences(test_X)\n",
    "word_index = tokenizer.word_index\n",
    "print('Found %s unique tokens.' % len(word_index))\n",
    "data_keras1 = pad_sequences(sequences, maxlen=max_len, padding=\"post\")\n",
    "data_keras1"
   ]
  },
  {
   "cell_type": "code",
   "execution_count": 217,
   "metadata": {},
   "outputs": [
    {
     "name": "stdout",
     "output_type": "stream",
     "text": [
      "102/102 [==============================] - 1s 9ms/step\n"
     ]
    },
    {
     "data": {
      "text/plain": [
       "3263"
      ]
     },
     "execution_count": 217,
     "metadata": {},
     "output_type": "execute_result"
    }
   ],
   "source": [
    "prediction = model.predict(data_keras1, verbose=1)\n",
    "len(prediction.argmax(axis=1))"
   ]
  },
  {
   "cell_type": "code",
   "execution_count": 218,
   "metadata": {},
   "outputs": [
    {
     "data": {
      "text/html": [
       "<div>\n",
       "<style scoped>\n",
       "    .dataframe tbody tr th:only-of-type {\n",
       "        vertical-align: middle;\n",
       "    }\n",
       "\n",
       "    .dataframe tbody tr th {\n",
       "        vertical-align: top;\n",
       "    }\n",
       "\n",
       "    .dataframe thead th {\n",
       "        text-align: right;\n",
       "    }\n",
       "</style>\n",
       "<table border=\"1\" class=\"dataframe\">\n",
       "  <thead>\n",
       "    <tr style=\"text-align: right;\">\n",
       "      <th></th>\n",
       "      <th>id</th>\n",
       "      <th>target</th>\n",
       "    </tr>\n",
       "  </thead>\n",
       "  <tbody>\n",
       "    <tr>\n",
       "      <th>0</th>\n",
       "      <td>0</td>\n",
       "      <td>0</td>\n",
       "    </tr>\n",
       "    <tr>\n",
       "      <th>1</th>\n",
       "      <td>2</td>\n",
       "      <td>0</td>\n",
       "    </tr>\n",
       "    <tr>\n",
       "      <th>2</th>\n",
       "      <td>3</td>\n",
       "      <td>0</td>\n",
       "    </tr>\n",
       "    <tr>\n",
       "      <th>3</th>\n",
       "      <td>9</td>\n",
       "      <td>0</td>\n",
       "    </tr>\n",
       "    <tr>\n",
       "      <th>4</th>\n",
       "      <td>11</td>\n",
       "      <td>0</td>\n",
       "    </tr>\n",
       "  </tbody>\n",
       "</table>\n",
       "</div>"
      ],
      "text/plain": [
       "   id  target\n",
       "0   0       0\n",
       "1   2       0\n",
       "2   3       0\n",
       "3   9       0\n",
       "4  11       0"
      ]
     },
     "execution_count": 218,
     "metadata": {},
     "output_type": "execute_result"
    }
   ],
   "source": [
    "predictions = np.transpose(prediction)[0]\n",
    "submission_df = pd.DataFrame(df['id'])\n",
    "submission_df.insert(1, \"target\", prediction.argmax(axis=1), True)\n",
    "submission_df.head()"
   ]
  },
  {
   "cell_type": "code",
   "execution_count": 219,
   "metadata": {},
   "outputs": [],
   "source": [
    "submission_df.to_csv('submission1.csv', index=False)"
   ]
  },
  {
   "cell_type": "markdown",
   "metadata": {},
   "source": [
    "## Conclusion\n",
    "Through this project, I designed a GRU model capable of sentiment analysis to separate emergency tweets from non-emergency tweets. Using the pre-trained word embeddings from the glove.twitter.27B.200d.txt data as weights for the Embedding layer lead to better results and faster convergence. My model achieved a 0.6 accuracy with the Kaggle test data which is rather low.  \n",
    "I could attempt to improve it by going deeper in EDA analysis so that each tweet is easier to understand by the model. This model could also be improved by training it with a larger database. I acheived 80% on validation accuracy with the training set but it wasn't representative enough to acheive the same accuracy with the test set."
   ]
  },
  {
   "cell_type": "markdown",
   "metadata": {},
   "source": [
    "### References\n",
    "[1] https://haochen23.github.io/2020/01/nlp-rnn-sentiment.html#.YydOOOzMI1I  \n",
    "[2] https://www.kaggle.com/code/astraz93/beginner-tf-idf-svc-score-80-5"
   ]
  },
  {
   "cell_type": "code",
   "execution_count": null,
   "metadata": {},
   "outputs": [],
   "source": []
  }
 ],
 "metadata": {
  "kernelspec": {
   "display_name": "Python 3",
   "language": "python",
   "name": "python3"
  },
  "language_info": {
   "codemirror_mode": {
    "name": "ipython",
    "version": 3
   },
   "file_extension": ".py",
   "mimetype": "text/x-python",
   "name": "python",
   "nbconvert_exporter": "python",
   "pygments_lexer": "ipython3",
   "version": "3.6.9"
  }
 },
 "nbformat": 4,
 "nbformat_minor": 4
}
